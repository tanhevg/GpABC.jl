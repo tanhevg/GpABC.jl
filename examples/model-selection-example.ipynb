{
 "cells": [
  {
   "cell_type": "code",
   "execution_count": null,
   "metadata": {},
   "outputs": [],
   "source": [
    "using GpABC, DifferentialEquations, Distributions, Distances, Plots"
   ]
  },
  {
   "cell_type": "code",
   "execution_count": null,
   "metadata": {
    "scrolled": true
   },
   "outputs": [],
   "source": [
    "#\n",
    "# Experimental data - from ABCSysBio example at\n",
    "# https://github.com/jamesscottbrown/abc-sysbio/blob/master/examples/SBML/Example1/SIR.ipynb\n",
    "#\n",
    "times = [0.0, 0.6, 1.0, 2.0, 3.0, 4.0, 5.0, 6.0, 7.0, 8.0, 9.0, 10.0, 11.0]\n",
    "values = [[ 20.     ,  10.     ,   0.     ],\n",
    "       [  0.12313,  13.16813,   9.42344],\n",
    "       [  0.12102,   7.17251,  11.18957],\n",
    "       [  0.09898,   2.36466,  10.0365 ],\n",
    "       [  0.37887,   0.92019,   6.87117],\n",
    "       [  1.00661,   0.61958,   4.44955],\n",
    "       [  1.20135,   0.17449,   3.01271],\n",
    "       [  1.46433,   0.28039,   1.76431],\n",
    "       [  1.37789,   0.0985 ,   1.28868],\n",
    "       [  1.57073,   0.03343,   0.81813],\n",
    "       [  1.4647 ,   0.28544,   0.52111],\n",
    "       [  1.24719,   0.10138,   0.22746],\n",
    "       [  1.56065,   0.21671,   0.19627]]\n",
    "\n",
    "values = hcat(values...)\n",
    "\n",
    "#\n",
    "# Priors and initial conditions - these are model-specfic as each model can \n",
    "# have different numbers of parameters/species\n",
    "#\n",
    "priors1 = [Uniform(0.0, 5.0) for i in 1:4]\n",
    "ic1 = [20.0, 10.0, 0.0]\n",
    "\n",
    "priors2 = vcat([Uniform(0.0, 5.0) for i in 1:4], Uniform(0.0, 10.0))\n",
    "ic2 = [20.0, 0.0, 10.0, 0.0]\n",
    "\n",
    "priors3 = vcat([Uniform(0.0, 5.0) for i in 1:4], Uniform(0.0, 10.0))\n",
    "ic3 = [20.0, 10.0, 0.0]\n",
    "\n",
    "modelprior = DiscreteUniform(1, 3)\n",
    "\n",
    "# p = (alpha, gamma, d, v)\n",
    "# x = (S, I, R)\n",
    "function model1(dx, x, p, t)\n",
    "    dx[1] = p[1] - p[2]*x[1]*x[2] - p[3]*x[1] # dS/dt = alpha - gamma*S*I - d*S\n",
    "    dx[2] = p[3]*x[1]*x[2] - p[4]*x[2] - p[3]*x[2] # dI/dt = gamma*S*I - v*I - d*I\n",
    "    dx[3] = p[4]*x[2] - p[3]*x[3] # dR/dt = v*I - d*R\n",
    "end\n",
    "\n",
    "# p = (alpha, gamma, d, v, delta)\n",
    "# x = (S, L, I, R)\n",
    "function model2(dx, x, p, t)\n",
    "    dx[1] = p[1] - p[2]*x[1]*x[3] - p[3]*x[1] # dS/dt = alpha - gamma*S*I - d*S\n",
    "    dx[2] = p[2]*x[1]*x[3] - p[5]*x[2] - p[3]*x[2] # dL/dt = gamma*S*I - delta*L - d*L\n",
    "    dx[3] = p[5]*x[2] - p[4]*x[3] - p[3]*x[3] # dI/dt = delta*L - v*I - d*I\n",
    "    dx[4] = p[4]*x[3] - p[3]*x[4] # dR/dt = v*I - d*R\n",
    "end\n",
    "\n",
    "# p = (alpha, gamma, d, v, e)\n",
    "# x = (S, I, R)\n",
    "function model3(dx, x, p, t)\n",
    "    dx[1] = p[1] - p[2]*x[1]*x[2] - p[3]*x[1] + p[5]*x[3] # dS/dt = alpha - gamma*S*I - d*S + e*R\n",
    "    dx[2] = p[3]*x[1]*x[2] - p[4]*x[2] - p[3]*x[2] # dI/dt = gamma*S*I - v*I - d*I\n",
    "    dx[3] = p[4]*x[2] - (p[3]+p[5])*x[3] # dR/dt = v*I - (d+e)*R\n",
    "end\n",
    "\n",
    "ics = [ic1, ic2, ic3]\n",
    "\n",
    "# Define simulator functions\n",
    "\n",
    "simulator1(params) = Array{Float64,2}(\n",
    "    solve(ODEProblem(model1, ics[1], (times[1], times[end]), params), saveat=times, force_dtmin=true))\n",
    "\n",
    "# Model2 contains the species L, which is not measured - we remove it from the returned ODE solution\n",
    "# so that it can be compared to the reference data \"values\", which only contains S, I and R\n",
    "simulator2(params) = Array{Float64,2}(\n",
    "    solve(ODEProblem(model2, ics[2], (times[1], times[end]), params), saveat=times, force_dtmin=true))[[1,3,4],:]\n",
    "\n",
    "simulator3(params) = Array{Float64,2}(\n",
    "    solve(ODEProblem(model3, ics[3], (times[1], times[end]), params), saveat=times, force_dtmin=true))"
   ]
  },
  {
   "cell_type": "code",
   "execution_count": null,
   "metadata": {
    "scrolled": true
   },
   "outputs": [],
   "source": [
    "if true\n",
    "    t_schedule = [20, 15, 10, 5, 3, 2.5, 2, 1.7, 1.5]\n",
    "    #t_schedule = [20, 15, 10, 5]\n",
    "\n",
    "    input = GpABC.SimulatedModelSelectionInput(3, 200, t_schedule, modelprior,\n",
    "        [priors1, priors2, priors3], \"keep_all\", euclidean,\n",
    "        [simulator1, simulator2, simulator3], 1e4)\n",
    "\n",
    "    ms_res = GpABC.model_selection(input, values);\n",
    "end"
   ]
  },
  {
   "cell_type": "code",
   "execution_count": null,
   "metadata": {
    "scrolled": true
   },
   "outputs": [],
   "source": [
    "threshold_schedule = [20, 15, 10]\n",
    "\n",
    "# Train the emulators\n",
    "n_design_points = 200\n",
    "summary_statistic = \"keep_all\"\n",
    "distance_metric = euclidean\n",
    "rt = RepetitiveTraining()\n",
    "gpkernel = SquaredExponentialArdKernel()\n",
    "\n",
    "#\n",
    "# A set of functions that return a trained emulator with a prior sampling function as an argument\n",
    "#\n",
    "emulator_trainers = [f(prior_sampler) = GpABC.abc_train_emulator(prior_sampler,\n",
    "        n_design_points,\n",
    "        GpABC.build_summary_statistic(summary_statistic)(values),\n",
    "        sim,\n",
    "        GpABC.build_summary_statistic(summary_statistic),\n",
    "        distance_metric)\n",
    "    for sim in [simulator1, simulator2, simulator3]]\n",
    "\n",
    "emulator_settings = [AbcEmulationSettings(n_design_points,\n",
    "        trainer,\n",
    "        (x, em) -> gp_regression(x, em)[1]) for trainer in emulator_trainers]\n",
    "\n",
    "input = EmulatedModelSelectionInput(3, 50, threshold_schedule, modelprior, [priors1, priors2, priors3],\n",
    "    emulator_settings, 100, 1e3)\n",
    "\n",
    "GpABC.initialise_modelselection(input, values)"
   ]
  },
  {
   "cell_type": "code",
   "execution_count": null,
   "metadata": {},
   "outputs": [],
   "source": [
    "function prior_sampler(n_dp, priors)\n",
    "    println(\"n_dp = $n_dp\")\n",
    "    out = hcat([rand(p, n_dp) for p in priors]...)\n",
    "    println(size(out))\n",
    "    return out\n",
    "end\n",
    "\n",
    "f1(x) = emulator_trainers[1](x -> prior_sampler(x, priors1))\n",
    "f2(x) = emulator_trainers[2](x -> prior_sampler(x, priors2))\n",
    "f3(x) = emulator_trainers[3](x -> prior_sampler(x, priors3))\n",
    "\n",
    "# f1(2)\n",
    "# f2(10)\n",
    "# f3(10)\n",
    "\n",
    "f(x) = prior_sampler(x, priors1)\n",
    "f1(10)"
   ]
  },
  {
   "cell_type": "code",
   "execution_count": null,
   "metadata": {},
   "outputs": [],
   "source": [
    "n_design_points = 200\n",
    "X = hcat([rand(p, n_design_points) for p in priors3]...)\n",
    "sum_stat = GpABC.build_summary_statistic(summary_statistic)\n",
    "sum_ref = sum_stat(values)\n",
    "y = [distance_metric(sum_stat(simulator3(X[i,:])), sum_ref) for i = 1:n_design_points]\n",
    "gpem = GPModel(training_x = X, training_y = y)\n",
    "gp_train(gpem)\n",
    "fhat, V = gp_regression(X, gpem, full_covariance_matrix=true)"
   ]
  },
  {
   "cell_type": "code",
   "execution_count": null,
   "metadata": {},
   "outputs": [],
   "source": [
    "println(y)\n",
    "println()\n",
    "f_draw = rand(MvNormal(fhat, Array(Hermitian(V))))\n",
    "println(f_draw)"
   ]
  },
  {
   "cell_type": "code",
   "execution_count": null,
   "metadata": {},
   "outputs": [],
   "source": [
    "using Plots\n",
    "gr();\n",
    "eps = 1e3\n",
    "scatter(y[abs.(f_draw).<eps], f_draw[abs.(f_draw).<eps])"
   ]
  },
  {
   "cell_type": "raw",
   "metadata": {},
   "source": [
    "all([size(ms_res.smc_outputs[m].population,1) == length(t_schedule) for m in 1:ms_res.M])\n",
    "all([size(ms_res.smc_outputs[m].distances,1) == length(t_schedule) for m in 1:ms_res.M])\n",
    "all([size(ms_res.smc_outputs[m].weights,1) == length(t_schedule) for m in 1:ms_res.M])"
   ]
  }
 ],
 "metadata": {
  "kernelspec": {
   "display_name": "Julia 0.6.1",
   "language": "julia",
   "name": "julia-0.6"
  },
  "language_info": {
   "file_extension": ".jl",
   "mimetype": "application/julia",
   "name": "julia",
   "version": "0.6.1"
  }
 },
 "nbformat": 4,
 "nbformat_minor": 2
}

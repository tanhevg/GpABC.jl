{
 "cells": [
  {
   "cell_type": "code",
   "execution_count": null,
   "metadata": {},
   "outputs": [],
   "source": [
    "using GpABC, DifferentialEquations, Distances, Plots, Distributions"
   ]
  },
  {
   "cell_type": "markdown",
   "metadata": {},
   "source": [
    "# Performing the Linear Noise Approximation and conducting ABC\n",
    "\n",
    "This notebook will guide the user through not only performing the linear noise approximation (LNA) on any system the user wishes to but will also guide the user through then using the LNA when conducting ABC for parameter estimation.\n",
    "\n",
    "## What is the LNA? \n",
    "\n",
    "The below shall be a brief overview of the definition of the LNA implemented in `GpABC`, if it is incomprehensible then the rest of then notebook should guide the user through the concept of the LNA. \n",
    "\n",
    "Still, it is important to mathematically outline the LNA.\n",
    "\n",
    "The LNA approximates the Chemical Master Equation (CME) by decomposing the stochastic process into two ordinary differential equations (ODEs); one describing the evolution of the mean of the trajectories and the other describing the evolution of the covaraince of the trajectories.\n",
    "\n",
    "In other words the LNA approximates the stochastic process by looking at the mean and the covariance of the trajectories $\\textbf{x}(t)$, whose evolution is described by a system of ODEs which can be seen below:\n",
    "\n",
    "$$\n",
    "\\begin{align}\n",
    "\\frac{d\\varphi}{dt}&=\\mathcal{S}\\textbf{f}(\\boldsymbol\\varphi) \\label{mean} \\\\ \n",
    "\\frac{d\\Sigma}{dt}&=\\mathcal{A} \\, \\Sigma + \\Sigma \\, \\mathcal{A}^T + \\frac{1}{\\sqrt{\\Omega}} \\, \\mathcal{S} \\, \\text{diag}(\\textbf{f}(\\boldsymbol\\varphi)) \\, \\mathcal{S}^T \\label{covar}\n",
    "\\end{align}\n",
    "$$\n",
    "\n",
    "Here $\\mathcal{S}$ is the stoichometry matrix of the system, $\\textbf{f}$ is the reaction rates. \n",
    "\n",
    "The matrix $\\mathcal{A}(t) = \\mathcal{S}\\mathcal{D}$ and $\\mathcal{D}$ is the Jacobian of the reaction rates: $\\{\\mathcal{D} \\}_{i,k} = \\frac{\\partial f_i(\\boldsymbol\\varphi)}{\\partial \\phi_k}$\n",
    "\n",
    "These can be solved by numerical methods to describe how $\\boldsymbol\\varphi$ (the mean) and $\\Sigma$ (the covariance) evolve with time.\n",
    "\n",
    "The rest of the notebook should lead the user through this."
   ]
  },
  {
   "cell_type": "markdown",
   "metadata": {},
   "source": [
    "## Stochastic Three Gene Toy Example\n",
    "\n",
    "The Three Gene Example is taken from Guy Karlebach and Ron Shamir \"Modelling and analysis of gene regulatory networks\" $\\textit{Nature Reviews Molecular Cell Biology}$ (2008).\n",
    "\n",
    "Consider a Three Gene Example where Gene 1, 2 and 3 are represented by $g_1$, $g_2$ and $g_3$ respectively and $\\textbf{g} = (g_1, g_2, g_3)^T$. The kinetic parameters of the system are represented through $k_*$. Imagine a system where the concentrations of these genes vary and depend on each other and they are determined by the equations below: \n",
    "\n",
    "$$\n",
    "\\begin{align*} \n",
    "\\emptyset & \\overset{\\hphantom{k_{1}} \\, k_{1,s} \\, g_3 \\hphantom{k}}{\\longrightarrow}   g_1  \\\\ \n",
    "g_1 & \\overset{\\hphantom{k_{1,s}} \\, k_{1,d} \\,  \\hphantom{k_{1,s}}}{\\longrightarrow} \\emptyset \\\\ \n",
    "g_1 & \\overset{ \\hphantom{k_{1}} \\,k_{2,s} \\, g_1 \\hphantom{k_{1,s}}}{\\longrightarrow} g_1 + g_2 \\\\ \n",
    "g_2 & \\overset{\\hphantom{k_{1,s}}\\, k_{2,d} \\, \\hphantom{k_{1,s}}}{\\longrightarrow} \\emptyset \\\\ \n",
    "g_1 + g_2 & \\overset{k_{3,s} \\, k_{3,1} \\, k_{3,2} }{\\longrightarrow} g_1 + g_2 + g_3 \\\\ \n",
    "g_3 & \\overset{ \\hphantom{k_{1,s}} \\, k_{3,d} \\, \\hphantom{k_{1,s}}}{\\longrightarrow}  \\emptyset \n",
    "\\end{align*}\n",
    "$$\n",
    "\n",
    "This can be pictorally understood through the diagram below. The interactions between the genes can be seen: Gene 1 activates Gene 2 and Gene 3, Gene 2 activates Gene 3 and finally gene 3 represses Gene 1.  \n",
    "\n",
    "<img src=\"threegeneinteractions.png\" width=\"500\" height=\"1000\">\n",
    "\n",
    "What cannot be seen in the diagram is the degradation of all the genes and the activation of Gene 1 from a constant source. The above is adapted from Guy Karlebach and Ron Shamir \"Modelling and analysis of gene regulatory networks\" $\\textit{Nature Reviews Molecular Cell Biology}$ (2008).\n",
    "\n",
    "The reaction rates of this model is: \n",
    "\n",
    " $\\textbf{f}= \\begin{bmatrix}\n",
    "      \\frac{ k_{1,s}}{1+k_{1,3} \\, \\textbf{g}_3}, & k_{1,d} \\, \\textbf{g}_1, & \\frac{k_{2,s} \\, k_{2,1}\\, \\textbf{g}_1}{1+k_{2,1} \\, \\textbf{g}_1}, & k_{2,d} \\, \\textbf{g}_2, & \\frac{k_{3,s} \\, k_{3,1} \\, \\textbf{g}_1 \\,  k_{3,2} \\, \\textbf{g}_2}{(1+k_{3,1} \\, \\textbf{g}_1)(1+k_{3,2} \\, \\textbf{g}_2)}, & k_{3,d} \\, \\textbf{g}_3        \n",
    "     \\end{bmatrix} ^T$. \n",
    "\n",
    "\n",
    "The Stoichiometry matrix of the system is:\n",
    "\n",
    "$$\\mathcal{S} =\n",
    " \\begin{pmatrix}\n",
    "  1 & -1 & 0 & 0 & 0 & 0 \\\\\n",
    "  0 & 0 & 1 & -1 & 0 & 0 \\\\\n",
    "  0 & 0 & 0 & 0 & 1 & -1  \n",
    " \\end{pmatrix} $$ and the reaction rates are \n",
    " \n",
    "\n",
    "    \n",
    "The user requires $\\mathcal{S}$ and $\\textbf{f}$ when constructing a stochastic model of a system.\n",
    "\n",
    "In this example, the parameters $[k_{1,s}, k_{2,s}, k_{3,s}, k_{1,d}, k_{1,d}, k_{2,d}, k_{3,d}, k_{1,3}, k_{2,1}, k_{3,1}, k_{3,1}]$ have been chosen to take values $[2.0, 1.0, 15.0, 1.0, 1.0, 1.0, 100.0, 1.0, 1.0, 1.0]$ \n",
    "\n",
    "So lets contruct $\\mathcal{S}$ and $\\textbf{f}$:"
   ]
  },
  {
   "cell_type": "code",
   "execution_count": null,
   "metadata": {},
   "outputs": [
    {
     "data": {
      "text/plain": [
       "(::#1) (generic function with 1 method)"
      ]
     },
     "execution_count": 2,
     "metadata": {},
     "output_type": "execute_result"
    }
   ],
   "source": [
    "S = [1.0 -1.0 0.0 0.0 0.0 0.0;  # stoichometry matrix \n",
    "     0.0 0.0 1.0 -1.0 0.0 0.0;\n",
    "     0.0 0.0 0.0 0.0 1.0 -1.0]\n",
    "\n",
    "params = [2.0, 1.0, 15.0, 1.0, 1.0, 1.0, 100.0, 1.0, 1.0, 1.0] #parameters\n",
    "\n",
    "reaction_rate_function = function(x,params)\n",
    "    f = [params[1]/(1+params[7]*x[3]),\n",
    "        params[4]*x[1],\n",
    "        params[2]*params[8]*x[1]/(1+params[8]*x[1]),\n",
    "        params[5]*x[2],\n",
    "        params[3]*params[9]*x[1]*params[10]*x[2]/(1+params[9]*x[1])/(1+params[10]*x[2]),\n",
    "        params[6]*x[3]]\n",
    "    return f\n",
    "end"
   ]
  },
  {
   "cell_type": "markdown",
   "metadata": {},
   "source": [
    "Notice how the reaction rates must be provided as a function.\n",
    "\n",
    "The original ODE model by the relationship $\\dot{\\textbf{g}} = \\mathcal{S} \\, \\textbf{f} $.\n",
    "\n",
    "An example of this can be seen below. Notice how in `GeneReg` the only thing defining the ODE is:\n",
    "\n",
    "$\\mathcal{S} \\, \\textbf{f}$ .\n",
    "\n",
    "The initial conditions, timspan, solver and saveat are arbitrary."
   ]
  },
  {
   "cell_type": "code",
   "execution_count": null,
   "metadata": {},
   "outputs": [],
   "source": [
    "GeneReg = function(params::AbstractArray{Float64,1},\n",
    "    Tspan::Tuple{Float64,Float64}, x0::AbstractArray{Float64,1},\n",
    "    solver::OrdinaryDiffEq.OrdinaryDiffEqAlgorithm, saveat::Float64)\n",
    "\n",
    "  if size(params,1) != 10\n",
    "    throw(ArgumentError(\"GeneReg needs 10 parameters, $(size(params,1)) were provided\"))\n",
    "  end\n",
    "\n",
    "  function ODE_3GeneReg(dx, x, par, t)\n",
    "    dx[1:3] = S*reaction_rate_function(x, par)\n",
    "  end\n",
    "\n",
    "  prob = ODEProblem(ODE_3GeneReg, x0 ,Tspan, params)\n",
    "  Obs = solve(prob, solver, saveat=saveat)\n",
    "\n",
    "  return Obs\n",
    "end\n",
    "\n",
    "Tspan = (0., 10.) #timspan\n",
    "x0 = [3.0, 2.0, 1.0] #initial conditions\n",
    "solver = RK4()\n",
    "saveat = 0.1\n",
    "\n",
    "ODE_solution = GeneReg(params, Tspan, x0, solver, saveat)\n",
    "\n",
    "plot(ODE_solution)"
   ]
  },
  {
   "cell_type": "markdown",
   "metadata": {},
   "source": [
    "## Stochastic Example\n",
    "\n",
    "Before diving straight into the LNA lets make `GeneReg` stochastic to see what happens:"
   ]
  },
  {
   "cell_type": "code",
   "execution_count": null,
   "metadata": {},
   "outputs": [],
   "source": [
    "StochGeneReg = function(params::AbstractArray{Float64,1},\n",
    "    Tspan::Tuple{Float64,Float64}, x0::AbstractArray{Float64,1},\n",
    "    solver::StochasticDiffEq.StochasticDiffEqAlgorithm, dt::Float64)\n",
    "\n",
    "  if size(params,1) != 10\n",
    "    throw(ArgumentError(\"GeneReg needs 10 parameters, $(size(params,1)) were provided\"))\n",
    "  end\n",
    "    \n",
    "  function sigma_3GeneReg(dx, x, par, t)\n",
    "    dx[1] = 0.3\n",
    "    dx[2] = 0.3\n",
    "    dx[3] = 0.3\n",
    "  end\n",
    "\n",
    "  function ODE_3GeneReg(dx, x, par, t)\n",
    "    dx[1:3] = S*reaction_rate_function(x, par)\n",
    "  end\n",
    "\n",
    "  prob = SDEProblem(ODE_3GeneReg, sigma_3GeneReg, x0 ,Tspan, params)\n",
    "  Obs = solve(prob, solver, dt=dt)\n",
    "\n",
    "  return Obs\n",
    "end\n",
    "\n",
    "Tspan = (0., 10.) #timspan\n",
    "x0 = [3.0, 2.0, 1.0] #initial conditions\n",
    "solver = EM()\n",
    "dt = 0.1\n",
    "\n",
    "SDE_solution = StochGeneReg(params, Tspan, x0, solver, saveat)\n",
    "\n",
    "plot(SDE_solution)"
   ]
  },
  {
   "cell_type": "markdown",
   "metadata": {},
   "source": [
    "## Computing the LNA\n",
    "\n",
    "Now if the user wishes to do the LNA of the above stochastic problem the process simply begins by setting up an LNAInput structure:"
   ]
  },
  {
   "cell_type": "code",
   "execution_count": null,
   "metadata": {},
   "outputs": [],
   "source": [
    "volume = 100.0\n",
    "input = LNAInput(params, S, reaction_rate_function, volume)"
   ]
  },
  {
   "cell_type": "markdown",
   "metadata": {},
   "source": [
    "Now if the user wishes to see the results from the two ODEs:\n",
    "    \n",
    "$$\n",
    "\\begin{align}\n",
    "\\frac{d\\varphi}{dt}&=\\mathcal{S}\\textbf{f}(\\boldsymbol\\varphi) \\label{mean} \\\\ \n",
    "\\frac{d\\Sigma}{dt}&=\\mathcal{A} \\, \\Sigma + \\Sigma \\, \\mathcal{A}^T + \\frac{1}{\\sqrt{\\Omega}} \\, \\mathcal{S} \\, \\text{diag}(\\textbf{f}(\\boldsymbol\\varphi)) \\, \\mathcal{S}^T \\label{covar}\n",
    "\\end{align}\n",
    "$$\n",
    "\n",
    "The user must simply provide the initial condtions in the form of (initial conditions of the species, initial covariance) and then call `compute_LNA`. \n",
    "\n",
    "This returns a `LNA` structure which holds the solutions to the above ODEs. The means, $\\varphi$ can be called by `lna.traj_means` and the covariance $\\Sigma$ can be called by `lna.traj_covars`. The time points the system of ODEs were solved for can be called by `lna.time_points`. "
   ]
  },
  {
   "cell_type": "code",
   "execution_count": null,
   "metadata": {},
   "outputs": [],
   "source": [
    "x0 = ([3.0, 2.0, 1.0], eye(3)) #initial conditions\n",
    "solver = RK4()\n",
    "saveat = 0.1\n",
    "\n",
    "lna = compute_LNA(input, x0, Tspan, saveat)\n",
    "\n",
    "covariance = lna.traj_covars\n",
    "t = lna.time_points\n",
    "mean  = lna.traj_means\n",
    "\n",
    "\n",
    "variance = zeros(size(S)[1], length(t))\n",
    "for (idx, elt) in enumerate(covariance)\n",
    "    variance[:, idx] = diag(elt)\n",
    "end\n",
    "\n",
    "plot(t, mean[1,:], ribbon=1.96*sqrt.(variance[1,:]), c=:blue, leg=false)\n",
    "plot!(t, mean[2,:], ribbon=1.96*sqrt.(variance[2,:]), c=:red, leg=false)\n",
    "plot!(t, mean[3,:], ribbon=1.96*sqrt.(variance[3,:]), c=:green, leg=false)"
   ]
  },
  {
   "cell_type": "markdown",
   "metadata": {},
   "source": [
    "The three means are plotted with the shaded areas being the 95% confidence intervals.\n",
    "\n",
    "## Sampling from the LNA\n",
    "\n",
    "The LNA gives the mean of the tracjectories and the covariance between them; hence a single trajectory can be sampled from a Multivariate Normal distribution. The function `sample_LNA_trajectories` automatically does this. \n",
    "\n",
    "The user can also sample more than one trajectory, which are then averaged, by changing `n_samples`. The effect of varying `n_samples` is shown below:"
   ]
  },
  {
   "cell_type": "code",
   "execution_count": null,
   "metadata": {},
   "outputs": [],
   "source": [
    "n_samples = 1\n",
    "\n",
    "@time lna_trajectories = sample_LNA_trajectories(lna, n_samples)\n",
    "\n",
    "plot(t, lna_trajectories[1,:])\n",
    "plot!(t, lna_trajectories[2,:])\n",
    "plot!(t, lna_trajectories[3,:])"
   ]
  },
  {
   "cell_type": "code",
   "execution_count": null,
   "metadata": {},
   "outputs": [],
   "source": [
    "n_samples = 10\n",
    "\n",
    "@time lna_trajectories = sample_LNA_trajectories(lna, n_samples)\n",
    "\n",
    "plot(t, lna_trajectories[1,:])\n",
    "plot!(t, lna_trajectories[2,:])\n",
    "plot!(t, lna_trajectories[3,:])"
   ]
  },
  {
   "cell_type": "code",
   "execution_count": null,
   "metadata": {},
   "outputs": [],
   "source": [
    "n_samples = 100\n",
    "\n",
    "@time lna_trajectories = sample_LNA_trajectories(lna, n_samples)\n",
    "\n",
    "plot(t, lna_trajectories[1,:])\n",
    "plot!(t, lna_trajectories[2,:])\n",
    "plot!(t, lna_trajectories[3,:])"
   ]
  },
  {
   "cell_type": "markdown",
   "metadata": {},
   "source": [
    "## ABC using the LNA\n",
    "\n",
    "\n",
    "Now the notebook will run through the same examples located in `abc-examples.ipynb` but using the LNA. Let's try and estimate the first three parameters, comparing simulation based ABC and emulation based ABC.\n",
    "\n",
    "### Simulation-Based Rejection ABC"
   ]
  },
  {
   "cell_type": "code",
   "execution_count": null,
   "metadata": {},
   "outputs": [],
   "source": [
    "function simulator_function(var_params)\n",
    "    input = LNAInput(vcat(var_params, params[n_var_params+1:end]), S, reaction_rate_function, volume)\n",
    "    return get_LNA_trajectories(input, n_samples, x0, Tspan, saveat)\n",
    "end"
   ]
  },
  {
   "cell_type": "code",
   "execution_count": null,
   "metadata": {},
   "outputs": [],
   "source": [
    "priors = [Uniform(0., 5.), Uniform(0., 5.), Uniform(10., 20.)]\n",
    "n_var_params = length(priors)\n",
    "n_particles = 500\n",
    "threshold = 2.0\n",
    "progress_every = 100\n",
    "reference_data = lna_trajectories\n",
    "\n",
    "sim_result = SimulatedABCRejection(reference_data,\n",
    "                        simulator_function,\n",
    "                        priors,\n",
    "                        threshold,\n",
    "                        n_particles\n",
    "                        )\n",
    "\n",
    "plot(sim_result)"
   ]
  },
  {
   "cell_type": "markdown",
   "metadata": {},
   "source": [
    "### Emulation-Based Rejection ABC"
   ]
  },
  {
   "cell_type": "code",
   "execution_count": null,
   "metadata": {},
   "outputs": [],
   "source": [
    "n_design_points = 200\n",
    "\n",
    "emu_result = EmulatedABCRejection(reference_data,\n",
    "                        simulator_function,\n",
    "                        priors,\n",
    "                        threshold,\n",
    "                        n_particles,\n",
    "                        n_design_points)\n",
    "\n",
    "\n",
    "plot(emu_result)"
   ]
  },
  {
   "cell_type": "markdown",
   "metadata": {},
   "source": [
    "### Simulation-Based ABC-SMC"
   ]
  },
  {
   "cell_type": "code",
   "execution_count": null,
   "metadata": {},
   "outputs": [],
   "source": [
    "threshold_schedule = [4.0, 3.0, 2.0]\n",
    "\n",
    "sim_abcsmc_res = SimulatedABCSMC(reference_data,\n",
    "                        simulator_function,\n",
    "                        priors,\n",
    "                        threshold_schedule,\n",
    "                        n_particles)\n",
    "plot(sim_abcsmc_res)"
   ]
  },
  {
   "cell_type": "markdown",
   "metadata": {},
   "source": [
    "### Emulation-Based ABC-SMC"
   ]
  },
  {
   "cell_type": "code",
   "execution_count": null,
   "metadata": {},
   "outputs": [],
   "source": [
    "threshold_schedule = [4.0, 3.0, 2.0]\n",
    "\n",
    "emu_abcsmc_res = EmulatedABCSMC(reference_data,\n",
    "                        simulator_function,\n",
    "                        priors,\n",
    "                        threshold_schedule,\n",
    "                        n_particles,\n",
    "                        n_design_points)\n",
    "\n",
    "plot(emu_abcsmc_res)"
   ]
  }
 ],
 "metadata": {
  "kernelspec": {
   "display_name": "Julia 0.6.2",
   "language": "julia",
   "name": "julia-0.6"
  },
  "language_info": {
   "file_extension": ".jl",
   "mimetype": "application/julia",
   "name": "julia",
   "version": "0.6.2"
  }
 },
 "nbformat": 4,
 "nbformat_minor": 2
}

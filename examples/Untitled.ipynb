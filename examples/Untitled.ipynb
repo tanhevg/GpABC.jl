{
 "cells": [
  {
   "cell_type": "code",
   "execution_count": 2,
   "metadata": {
    "collapsed": true
   },
   "outputs": [],
   "source": [
    "using GpABC, DifferentialEquations, Distributions, Distances, Plots"
   ]
  },
  {
   "cell_type": "code",
   "execution_count": 3,
   "metadata": {},
   "outputs": [
    {
     "name": "stdout",
     "output_type": "stream",
     "text": [
      "Simulated model selection\n",
      "Population 1\n",
      "Completed 691 iterations, accepting 200 particles in total\n",
      "Number of accepted parameters: Model 1: 87\tModel 2: 113\n",
      "Population 2\n",
      "Completed 1087 iterations, accepting 200 particles\n",
      "Number of accepted parameters: Model 1: 46\tModel 2: 154\n",
      "Population 3\n",
      "Completed 2433 iterations, accepting 200 particles\n",
      "Number of accepted parameters: Model 1: 40\tModel 2: 160\n"
     ]
    },
    {
     "ename": "LoadError",
     "evalue": "\u001b[91mMethodError: no method matching model_selection(::Array{Float64,2}, ::Int64, ::Array{Int64,1}, ::Array{Array{Distributions.Uniform{Float64},1},1}, ::String, ::Array{Function,1})\u001b[0m\nClosest candidates are:\n  model_selection(::AbstractArray{Float64,2}, ::Integer, \u001b[91m::AbstractArray{Float64,1}\u001b[39m, ::AbstractArray{AD<:AbstractArray{D<:Distributions.Distribution{Distributions.Univariate,Distributions.Continuous},1},1}, ::Union{AbstractArray{String,1}, Function, String}, ::AbstractArray{Function,1}; model_prior, distance_function, max_iter) where {D<:Distributions.Distribution{Distributions.Univariate,Distributions.Continuous}, AD<:AbstractArray{D<:Distributions.Distribution{Distributions.Univariate,Distributions.Continuous},1}} at /home/jonathan/Documents/GpAbc.jl/src/abc/simulation.jl:121\u001b[39m",
     "output_type": "error",
     "traceback": [
      "\u001b[91mMethodError: no method matching model_selection(::Array{Float64,2}, ::Int64, ::Array{Int64,1}, ::Array{Array{Distributions.Uniform{Float64},1},1}, ::String, ::Array{Function,1})\u001b[0m\nClosest candidates are:\n  model_selection(::AbstractArray{Float64,2}, ::Integer, \u001b[91m::AbstractArray{Float64,1}\u001b[39m, ::AbstractArray{AD<:AbstractArray{D<:Distributions.Distribution{Distributions.Univariate,Distributions.Continuous},1},1}, ::Union{AbstractArray{String,1}, Function, String}, ::AbstractArray{Function,1}; model_prior, distance_function, max_iter) where {D<:Distributions.Distribution{Distributions.Univariate,Distributions.Continuous}, AD<:AbstractArray{D<:Distributions.Distribution{Distributions.Univariate,Distributions.Continuous},1}} at /home/jonathan/Documents/GpAbc.jl/src/abc/simulation.jl:121\u001b[39m",
      ""
     ]
    }
   ],
   "source": [
    "\t#threshold_schedule = [20, 15, 10, 5, 3, 2.5, 2, 1.7, 1.5]\n",
    "\tthreshold_schedule = [20, 15, 10]\n",
    "\tsummary_statistic = \"keep_all\"\n",
    "\tmax_iter = 1e4\n",
    "\tn_particles = 200\n",
    "\tdistance_metric = euclidean\n",
    "\n",
    "\t#\n",
    "\t# Experimental data - from ABCSysBio example at\n",
    "\t# https://github.com/jamesscottbrown/abc-sysbio/blob/master/examples/SBML/Example1/SIR.ipynb\n",
    "\t#\n",
    "\ttimes = [0.0, 0.6, 1.0, 2.0, 3.0, 4.0, 5.0, 6.0, 7.0, 8.0, 9.0, 10.0, 11.0]\n",
    "\tdata = [[ 20.     ,  10.     ,   0.     ],\n",
    "\t       [  0.12313,  13.16813,   9.42344],\n",
    "\t       [  0.12102,   7.17251,  11.18957],\n",
    "\t       [  0.09898,   2.36466,  10.0365 ],\n",
    "\t       [  0.37887,   0.92019,   6.87117],\n",
    "\t       [  1.00661,   0.61958,   4.44955],\n",
    "\t       [  1.20135,   0.17449,   3.01271],\n",
    "\t       [  1.46433,   0.28039,   1.76431],\n",
    "\t       [  1.37789,   0.0985 ,   1.28868],\n",
    "\t       [  1.57073,   0.03343,   0.81813],\n",
    "\t       [  1.4647 ,   0.28544,   0.52111],\n",
    "\t       [  1.24719,   0.10138,   0.22746],\n",
    "\t       [  1.56065,   0.21671,   0.19627]]\n",
    "\n",
    "\tdata = hcat(data...)\n",
    "\n",
    "\t#\n",
    "\t# Define priors and initial conditions for each model\n",
    "\t#\n",
    "\n",
    "\t#\n",
    "\t# Priors and initial conditions - these are model-specfic as each model can \n",
    "\t# have different numbers of parameters/species\n",
    "\t#\n",
    "\tpriors1 = [Uniform(0.0, 5.0) for i in 1:4]\n",
    "\tic1 = [20.0, 10.0, 0.0]\n",
    "\n",
    "\tpriors2 = vcat([Uniform(0.0, 5.0) for i in 1:4], Uniform(0.0, 10.0))\n",
    "\tic2 = [20.0, 0.0, 10.0, 0.0]\n",
    "\n",
    "\tmodelprior = DiscreteUniform(1, 2)\n",
    "\n",
    "\t# p = (alpha, gamma, d, v)\n",
    "\t# x = (S, I, R)\n",
    "\tfunction model1(dx, x, p, t)\n",
    "\t    dx[1] = p[1] - p[2]*x[1]*x[2] - p[3]*x[1] # dS/dt = alpha - gamma*S*I - d*S\n",
    "\t    dx[2] = p[3]*x[1]*x[2] - p[4]*x[2] - p[3]*x[2] # dI/dt = gamma*S*I - v*I - d*I\n",
    "\t    dx[3] = p[4]*x[2] - p[3]*x[3] # dR/dt = v*I - d*R\n",
    "\tend\n",
    "\n",
    "\t# p = (alpha, gamma, d, v, delta)\n",
    "\t# x = (S, L, I, R)\n",
    "\tfunction model2(dx, x, p, t)\n",
    "\t    dx[1] = p[1] - p[2]*x[1]*x[3] - p[3]*x[1] # dS/dt = alpha - gamma*S*I - d*S\n",
    "\t    dx[2] = p[2]*x[1]*x[3] - p[5]*x[2] - p[3]*x[2] # dL/dt = gamma*S*I - delta*L - d*L\n",
    "\t    dx[3] = p[5]*x[2] - p[4]*x[3] - p[3]*x[3] # dI/dt = delta*L - v*I - d*I\n",
    "\t    dx[4] = p[4]*x[3] - p[3]*x[4] # dR/dt = v*I - d*R\n",
    "\tend\n",
    "\n",
    "\tics = [ic1, ic2]\n",
    "\n",
    "\t# Define simulator functions for each model\n",
    "\n",
    "\tsimulator1(params) = Array{Float64,2}(\n",
    "\t    solve(ODEProblem(model1, ics[1], (times[1], times[end]), params), saveat=times, force_dtmin=true))\n",
    "\n",
    "\t# Model2 contains the species L, which is not measured - we remove it from the returned ODE solution\n",
    "\t# so that it can be compared to the reference data \"data\", which only contains S, I and R\n",
    "\tsimulator2(params) = Array{Float64,2}(\n",
    "\t    solve(ODEProblem(model2, ics[2], (times[1], times[end]), params), saveat=times, force_dtmin=true))[[1,3,4],:]\n",
    "\t\n",
    "\t#\n",
    "\t# For tests on output shapes\n",
    "\t#\n",
    "\tn_params = [4,5]\n",
    "\n",
    "\n",
    "\t#\n",
    "\t# Do model selection using simulation\n",
    "\t#\n",
    "\tinput = SimulatedModelSelectionInput(2, n_particles, threshold_schedule, modelprior,\n",
    "\t    [priors1, priors2], summary_statistic, distance_metric, [simulator1, simulator2], max_iter)\n",
    "\n",
    "\tms_res = model_selection(input, data);\n",
    "\t\n",
    "\t# User-level function for the same computation\n",
    "\tms_res  = model_selection(data, n_particles, threshold_schedule, [priors1, priors2],\n",
    "\t\tsummary_statistic, [simulator1, simulator2])"
   ]
  }
 ],
 "metadata": {
  "kernelspec": {
   "display_name": "Julia 0.6.1",
   "language": "julia",
   "name": "julia-0.6"
  },
  "language_info": {
   "file_extension": ".jl",
   "mimetype": "application/julia",
   "name": "julia",
   "version": "0.6.1"
  }
 },
 "nbformat": 4,
 "nbformat_minor": 2
}

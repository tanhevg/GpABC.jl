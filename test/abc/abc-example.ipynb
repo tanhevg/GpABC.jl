{
 "cells": [
  {
   "cell_type": "code",
   "execution_count": 1,
   "metadata": {},
   "outputs": [],
   "source": [
    "using DifferentialEquations\n",
    "using Distances\n",
    "using PyCall\n",
    "@pyimport matplotlib.pyplot as plt\n",
    "using GpAbc"
   ]
  },
  {
   "cell_type": "markdown",
   "metadata": {},
   "source": [
    "# Rejection ABC using GaussProABC - estimating parameters\n",
    "\n",
    "This notebook demonstrates how to perform simulation- and emulation-based rejection ABC using GaussProABC for parameter estimation of an ODE model.\n",
    "\n",
    "Start by choosing some settings for ABC, the emulator and the toy, noise-free ODE system. There is also a wrapper function that returns the solution to the toy system for some given parameters and ODE solution options."
   ]
  },
  {
   "cell_type": "code",
   "execution_count": 3,
   "metadata": {},
   "outputs": [
    {
     "data": {
      "text/plain": [
       "(::#1) (generic function with 1 method)"
      ]
     },
     "execution_count": 3,
     "metadata": {},
     "output_type": "execute_result"
    }
   ],
   "source": [
    "#\n",
    "# ABC settings\n",
    "#\n",
    "n_var_params = 2\n",
    "n_particles = 1000\n",
    "threshold = 0.5\n",
    "priors = [Distributions.Uniform(0., 5.), Distributions.Uniform(0., 5.)]\n",
    "distance_metric = euclidean\n",
    "progress_every = 1000\n",
    "\n",
    "#\n",
    "# Emulation settings\n",
    "#\n",
    "n_design_points = 100\n",
    "batch_size = 1000\n",
    "max_iter = 1000\n",
    "\n",
    "#\n",
    "# True parameters\n",
    "#\n",
    "true_params =  [2.0, 1.0, 15.0, 1.0, 1.0, 1.0, 100.0, 1.0, 1.0, 1.0]\n",
    "\n",
    "#\n",
    "# ODE solver settings\n",
    "#\n",
    "Tspan = (0.0, 10.0)\n",
    "x0 = [3.0, 2.0, 1.0]\n",
    "solver = RK4()\n",
    "saveat = 0.1\n",
    "\n",
    "#\n",
    "# Returns the solution to the toy model as solved by DifferentialEquations\n",
    "#\n",
    "GeneReg = function(params::AbstractArray{Float64,1},\n",
    "    Tspan::Tuple{Float64,Float64}, x0::AbstractArray{Float64,1},\n",
    "    solver::OrdinaryDiffEq.OrdinaryDiffEqAlgorithm, saveat::Float64)\n",
    "\n",
    "  if size(params,1) != 10\n",
    "    throw(ArgumentError(\"GeneReg needs 10 parameters, $(size(params,1)) were provided\"))\n",
    "  end\n",
    "\n",
    "  function ODE_3GeneReg(dx, x, par, t)\n",
    "    dx[1] = par[1]/(1+par[7]*x[3]) - par[4]*x[1]\n",
    "    dx[2] = par[2]*par[8]*x[1]./(1+par[8]*x[1]) - par[5]*x[2]\n",
    "    dx[3] = par[3]*par[9]*x[1]*par[10]*x[2]./(1+par[9]*x[1])./(1+par[10]*x[2]) - par[6]*x[3]\n",
    "  end\n",
    "\n",
    "  prob = ODEProblem(ODE_3GeneReg, x0 ,Tspan, params)\n",
    "  Obs = solve(prob, solver, saveat=saveat)\n",
    "\n",
    "  return Obs\n",
    "end"
   ]
  },
  {
   "cell_type": "markdown",
   "metadata": {},
   "source": [
    "## Plot reference data\n",
    "\n",
    "The reference data is the concentrations over time for the three species. Computed by solving the model with the true parameters."
   ]
  },
  {
   "cell_type": "code",
   "execution_count": 4,
   "metadata": {},
   "outputs": [
    {
     "name": "stdout",
     "output_type": "stream",
     "text": [
      "Got reference data\n"
     ]
    }
   ],
   "source": [
    "#\n",
    "# Get reference data and plot it\n",
    "#\n",
    "reference_data = GeneReg(true_params, Tspan, x0, solver, saveat)\n",
    "println(\"Got reference data\")\n",
    "\n",
    "fig, ax = plt.subplots(1)\n",
    "ax[:plot](reference_data.t, transpose(hcat(reference_data.u...)))\n",
    "ax[:set_xlabel](\"t\")\n",
    "ax[:set_ylabel](\"C(t)\")\n",
    "plt.show()"
   ]
  },
  {
   "cell_type": "markdown",
   "metadata": {},
   "source": [
    "## Simulation-based rejection ABC\n",
    "\n",
    "To perform rejection ABC, first construct an instance of one of either two objects: `SimulatedABCRejectionInput` or `EmulatedABCRejectionInput`.\n",
    "\n",
    "The simulated version contains the number of accepted particles, acceptance threshold, priors, the distance metric and the simulator funciton. Note that this needs to be extended to include summary statistics.\n",
    "\n",
    "The simulator function is user-defined and must to take the unknown parameters as a single argument and return the simluated trajectories.\n",
    "\n",
    "After constructing the input object it is passed to `ABCrejection` with the reference (observed) data to perform rejection ABC."
   ]
  },
  {
   "cell_type": "code",
   "execution_count": 5,
   "metadata": {
    "scrolled": true
   },
   "outputs": [
    {
     "name": "stdout",
     "output_type": "stream",
     "text": [
      "2018-06-18T12:34:01.698 Accepted 35/1000 particles.\n",
      "2018-06-18T12:34:01.817 Accepted 60/2000 particles.\n",
      "2018-06-18T12:34:01.92 Accepted 81/3000 particles.\n",
      "2018-06-18T12:34:02.023 Accepted 97/4000 particles.\n",
      "2018-06-18T12:34:02.125 Accepted 124/5000 particles.\n",
      "2018-06-18T12:34:02.228 Accepted 157/6000 particles.\n",
      "2018-06-18T12:34:02.328 Accepted 182/7000 particles.\n",
      "2018-06-18T12:34:02.432 Accepted 201/8000 particles.\n",
      "2018-06-18T12:34:02.534 Accepted 218/9000 particles.\n",
      "2018-06-18T12:34:02.636 Accepted 236/10000 particles.\n",
      "2018-06-18T12:34:02.739 Accepted 258/11000 particles.\n",
      "2018-06-18T12:34:02.839 Accepted 275/12000 particles.\n",
      "2018-06-18T12:34:02.942 Accepted 295/13000 particles.\n",
      "2018-06-18T12:34:03.053 Accepted 318/14000 particles.\n",
      "2018-06-18T12:34:03.181 Accepted 335/15000 particles.\n",
      "2018-06-18T12:34:03.295 Accepted 368/16000 particles.\n",
      "2018-06-18T12:34:03.405 Accepted 389/17000 particles.\n",
      "2018-06-18T12:34:03.516 Accepted 404/18000 particles.\n",
      "2018-06-18T12:34:03.632 Accepted 429/19000 particles.\n",
      "2018-06-18T12:34:03.744 Accepted 444/20000 particles.\n",
      "2018-06-18T12:34:03.858 Accepted 468/21000 particles.\n",
      "2018-06-18T12:34:03.977 Accepted 489/22000 particles.\n",
      "2018-06-18T12:34:04.095 Accepted 514/23000 particles.\n",
      "2018-06-18T12:34:04.212 Accepted 547/24000 particles.\n",
      "2018-06-18T12:34:04.324 Accepted 571/25000 particles.\n",
      "2018-06-18T12:34:04.442 Accepted 596/26000 particles.\n",
      "2018-06-18T12:34:04.553 Accepted 627/27000 particles.\n",
      "2018-06-18T12:34:04.679 Accepted 642/28000 particles.\n",
      "2018-06-18T12:34:04.803 Accepted 664/29000 particles.\n",
      "2018-06-18T12:34:04.952 Accepted 682/30000 particles.\n",
      "2018-06-18T12:34:05.089 Accepted 704/31000 particles.\n",
      "2018-06-18T12:34:05.2 Accepted 725/32000 particles.\n",
      "2018-06-18T12:34:05.305 Accepted 745/33000 particles.\n",
      "2018-06-18T12:34:05.413 Accepted 772/34000 particles.\n",
      "2018-06-18T12:34:05.52 Accepted 799/35000 particles.\n",
      "2018-06-18T12:34:05.629 Accepted 826/36000 particles.\n",
      "2018-06-18T12:34:05.736 Accepted 851/37000 particles.\n",
      "2018-06-18T12:34:05.841 Accepted 880/38000 particles.\n",
      "2018-06-18T12:34:05.949 Accepted 904/39000 particles.\n",
      "2018-06-18T12:34:06.096 Accepted 939/40000 particles.\n",
      "2018-06-18T12:34:06.249 Accepted 977/41000 particles.\n"
     ]
    },
    {
     "data": {
      "text/plain": [
       "GpAbc.ABCRejectionOutput(2, 1000, 41774, 0.5, [1.86983 1.03419; 1.07104 0.989697; … ; 2.12076 1.08467; 3.28688 0.998401], [0.116237, 0.417295, 0.458917, 0.403296, 0.407367, 0.408753, 0.226735, 0.332124, 0.329913, 0.386028  …  0.281795, 0.401663, 0.467238, 0.216794, 0.281798, 0.148056, 0.440837, 0.452263, 0.296646, 0.454594], [0.001, 0.001, 0.001, 0.001, 0.001, 0.001, 0.001, 0.001, 0.001, 0.001  …  0.001, 0.001, 0.001, 0.001, 0.001, 0.001, 0.001, 0.001, 0.001, 0.001])"
      ]
     },
     "execution_count": 5,
     "metadata": {},
     "output_type": "execute_result"
    }
   ],
   "source": [
    "#\n",
    "# Simulation\n",
    "#\n",
    "simulator_function(var_params) = GeneReg(vcat(var_params, true_params[n_var_params+1:end]), Tspan, x0, solver, saveat)\n",
    "\n",
    "sim_rej_input = SimulatedABCRejectionInput(n_var_params,\n",
    "                        n_particles,\n",
    "                        threshold,\n",
    "                        priors,\n",
    "                        distance_metric,\n",
    "                        simulator_function)\n",
    "\n",
    "sim_result = ABCrejection(sim_rej_input, reference_data, progress_every=progress_every)"
   ]
  },
  {
   "cell_type": "markdown",
   "metadata": {},
   "source": [
    "## Emulation-based Rejection ABC\n",
    "\n",
    "First train the emulator. This requires training inputs `X` and training outputs `y`, where `X` is an array with size (n_design_points, n_unknown_parameters) and `y` is an array with size (n_design_points).\n",
    "\n",
    "The function `get_training_data` returns `X` and `y` in the correct format to be used with a `GPModel`.\n",
    "\n",
    "Then train the model, plotting the design points and their distances."
   ]
  },
  {
   "cell_type": "code",
   "execution_count": 6,
   "metadata": {},
   "outputs": [
    {
     "name": "stdout",
     "output_type": "stream",
     "text": [
      "Trained emulator\n"
     ]
    },
    {
     "name": "stderr",
     "output_type": "stream",
     "text": [
      "\u001b[1m\u001b[33mWARNING: \u001b[39m\u001b[22m\u001b[33mPositive maximum log likelihood 81.77127370200023 at [4.31509, 5.85199, 0.609601, 0.0259055]. Please consider using another optimisation method, another kernel function, or sparse GPs.\u001b[39m\n"
     ]
    }
   ],
   "source": [
    "#\n",
    "# Train the Emulator\n",
    "#\n",
    "\n",
    "#\n",
    "# First prepare data for emulator - matrix X contains design ponts and y contains distances\n",
    "#\n",
    "function get_training_data(n_design_points,\n",
    "  priors,\n",
    "  simulator_function, distance_metric,\n",
    "  reference_data)\n",
    "    \n",
    "  X = zeros(n_design_points, length(priors))\n",
    "  y = zeros(n_design_points)  \n",
    "  for i in 1:n_design_points\n",
    "    dp = [rand(d) for d in priors]\n",
    "    X[i,:] = dp\n",
    "    y[i] = distance_metric(simulator_function(dp), reference_data)\n",
    "  end\n",
    "    \n",
    "  return X, y\n",
    "end\n",
    "\n",
    "X, y = get_training_data(n_design_points, priors, simulator_function, distance_metric, reference_data)\n",
    "\n",
    "#\n",
    "# Train emulator - VARIANCE SEEMS SMALL\n",
    "#\n",
    "gpem = GPModel(training_x=X, training_y=y, kernel=SquaredExponentialArdKernel())\n",
    "gp_train(gpem)\n",
    "\n",
    "println(\"Trained emulator\")\n",
    "\n",
    "#\n",
    "# Plot design points\n",
    "#\n",
    "fig, axes = plt.subplots(n_var_params)\n",
    "\n",
    "for (idx, prior) in enumerate(priors)\n",
    "    ax = axes[idx]\n",
    "    ax[:scatter](X[:,idx], y, label=\"training data\")\n",
    "    ax[:set_xlabel](\"Parameter $idx\")\n",
    "    ax[:set_ylabel](\"Distance\")\n",
    "end\n",
    "\n",
    "plt.tight_layout()\n",
    "plt.show()"
   ]
  },
  {
   "cell_type": "markdown",
   "metadata": {},
   "source": [
    "The second parameter is easier to pick up using this distance metric and summary statistic than the first.\n",
    "\n",
    "When creating an `EmulatedABCRejectionInput` object provide a function that returns the emulated distances rather than the `simulator_function` required in the simulation case. Also provide a batch size and a maximum number of iterations."
   ]
  },
  {
   "cell_type": "code",
   "execution_count": 8,
   "metadata": {
    "scrolled": false
   },
   "outputs": [
    {
     "name": "stdout",
     "output_type": "stream",
     "text": [
      "2018-06-18T12:36:45.431 Accepted 147/5000 particles (5 batches of size 1000).\n",
      "2018-06-18T12:36:45.479 Accepted 290/10000 particles (10 batches of size 1000).\n",
      "2018-06-18T12:36:45.522 Accepted 429/15000 particles (15 batches of size 1000).\n",
      "2018-06-18T12:36:45.578 Accepted 589/20000 particles (20 batches of size 1000).\n",
      "2018-06-18T12:36:45.627 Accepted 724/25000 particles (25 batches of size 1000).\n",
      "2018-06-18T12:36:45.695 Accepted 883/30000 particles (30 batches of size 1000).\n"
     ]
    },
    {
     "data": {
      "text/plain": [
       "GpAbc.ABCRejectionOutput(2, 1000, 34000, 0.5, [3.12865 0.974133; 1.72081 1.03998; … ; 2.77749 1.0673; 1.53748 1.08761], [0.380466, 0.265027, 0.440093, 0.404073, 0.39671, 0.445372, 0.284085, 0.371401, 0.236868, 0.364189  …  0.486624, 0.268176, 0.328258, 0.284831, 0.256291, 0.462372, 0.488637, 0.432112, 0.367073, 0.350106], [0.001, 0.001, 0.001, 0.001, 0.001, 0.001, 0.001, 0.001, 0.001, 0.001  …  0.001, 0.001, 0.001, 0.001, 0.001, 0.001, 0.001, 0.001, 0.001, 0.001])"
      ]
     },
     "execution_count": 8,
     "metadata": {},
     "output_type": "execute_result"
    }
   ],
   "source": [
    "#\n",
    "# Use the emulator for rejection ABC\n",
    "#\n",
    "function predict_distance(p::AbstractArray{Float64})\n",
    "    result = gp_regression(p,gpem)[1]\n",
    "    return result\n",
    "end\n",
    "\n",
    "emu_rej_input = EmulatedABCRejectionInput(n_var_params,  \n",
    "  n_particles,\n",
    "  threshold,\n",
    "  priors,\n",
    "  predict_distance,\n",
    "  batch_size,\n",
    "  max_iter)\n",
    "\n",
    "emu_result = ABCrejection(emu_rej_input, reference_data, progress_every=5)"
   ]
  },
  {
   "cell_type": "markdown",
   "metadata": {},
   "source": [
    "# Comparing the resulting posteriors from simulation and emulation\n",
    "\n",
    "They are similar and both center on the correct parameter values."
   ]
  },
  {
   "cell_type": "code",
   "execution_count": 9,
   "metadata": {},
   "outputs": [],
   "source": [
    "fig, axes = plt.subplots(n_var_params)\n",
    "\n",
    "for idx in 1:n_var_params\n",
    "    ax = axes[idx]\n",
    "    ax[:hist](emu_result.population[:,idx], normed=true, label=\"emulation\", alpha=0.5)\n",
    "    ax[:hist](sim_result.population[:,idx], normed=true, label=\"simlation\", alpha=0.5)\n",
    "    ax[:set_xlabel](\"Parameter $idx\")\n",
    "    ax[:set_ylabel](\"Density\")\n",
    "end\n",
    "\n",
    "axes[1][:legend]()\n",
    "plt.tight_layout()\n",
    "plt.show()"
   ]
  },
  {
   "cell_type": "markdown",
   "metadata": {},
   "source": [
    "# ABC-SMC"
   ]
  },
  {
   "cell_type": "code",
   "execution_count": 10,
   "metadata": {},
   "outputs": [
    {
     "data": {
      "text/plain": [
       "3-element Array{Float64,1}:\n",
       " 3.0\n",
       " 2.0\n",
       " 1.0"
      ]
     },
     "execution_count": 10,
     "metadata": {},
     "output_type": "execute_result"
    }
   ],
   "source": [
    "#\n",
    "# ABC-SMC settings\n",
    "#\n",
    "threshold_schedule = [3.0, 2.0, 1.0]"
   ]
  },
  {
   "cell_type": "markdown",
   "metadata": {},
   "source": [
    "## Simulation-based ABC-SMC"
   ]
  },
  {
   "cell_type": "code",
   "execution_count": 11,
   "metadata": {
    "scrolled": true
   },
   "outputs": [
    {
     "name": "stdout",
     "output_type": "stream",
     "text": [
      "2018-06-18T12:40:20.302 Accepted 357/1000 particles.\n",
      "2018-06-18T12:40:20.412 Accepted 714/2000 particles.\n",
      "2018-06-18T12:40:21.633 Accepted 423/1000 particles.\n",
      "2018-06-18T12:40:22.127 Accepted 814/2000 particles.\n",
      "2018-06-18T12:40:22.966 Accepted 245/1000 particles.\n",
      "2018-06-18T12:40:23.464 Accepted 528/2000 particles.\n",
      "2018-06-18T12:40:23.954 Accepted 764/3000 particles.\n"
     ]
    },
    {
     "data": {
      "text/plain": [
       "GpAbc.ABCSMCOutput(2, [1000, 1000, 1000], [2857, 2518, 3881], [3.0, 2.0, 1.0], Array{Float64,2}[[0.944045 0.543657; 3.77091 1.74749; … ; 2.6858 1.67859; 3.53236 0.315912], [3.23743 0.748698; 0.493678 1.44457; … ; 1.01928 1.53161; 3.66575 0.801198], [0.233936 1.08984; 3.59796 0.760199; … ; 2.15645 1.23355; 1.75841 0.843716]], Array{Float64,1}[[1.76071, 2.58433, 0.802846, 1.31407, 2.20297, 2.74513, 1.90958, 1.34824, 0.842735, 0.732341  …  1.03709, 0.835176, 1.55099, 1.91284, 1.88133, 1.03907, 0.0902711, 2.09996, 2.20611, 2.57852], [0.895412, 1.49463, 1.60115, 0.906943, 1.71723, 0.790514, 0.508649, 1.97667, 1.44579, 1.03369  …  1.3578, 0.694482, 1.5939, 0.870163, 0.972272, 1.74365, 0.595101, 1.90084, 1.65374, 0.788352], [0.963439, 0.89395, 0.539074, 0.810967, 0.858149, 0.530326, 0.113588, 0.6417, 0.696302, 0.737659  …  0.865686, 0.930452, 0.438482, 0.713755, 0.980899, 0.148138, 0.790147, 0.0803972, 0.782455, 0.564746]], StatsBase.Weights[[0.001, 0.001, 0.001, 0.001, 0.001, 0.001, 0.001, 0.001, 0.001, 0.001  …  0.001, 0.001, 0.001, 0.001, 0.001, 0.001, 0.001, 0.001, 0.001, 0.001], [0.00208069, 0.000455284, 0.00134366, 0.000550472, 0.000422251, 0.000694926, 0.000688251, 0.00460655, 0.00046525, 0.00136035  …  0.00146217, 0.000551731, 0.000434562, 0.000944392, 0.00123715, 0.00044132, 0.000730932, 0.000629982, 0.000424878, 0.00243396], [0.002896, 0.00156218, 0.000707914, 0.00139409, 0.000511729, 0.000597808, 0.000857018, 0.00091085, 0.000721284, 0.00215133  …  0.00151801, 0.00164291, 0.00172129, 0.000786231, 0.00176061, 0.000878763, 0.00165418, 0.000871459, 0.000591903, 0.00166975]])"
      ]
     },
     "execution_count": 11,
     "metadata": {},
     "output_type": "execute_result"
    }
   ],
   "source": [
    "sim_abcsmc_input = SimulatedABCSMCInput(n_var_params,\n",
    "    n_particles,\n",
    "    threshold_schedule,\n",
    "    priors,\n",
    "    distance_metric,\n",
    "    simulator_function)\n",
    "\n",
    "sim_abcsmc_res = ABCSMC(sim_abcsmc_input, reference_data)"
   ]
  },
  {
   "cell_type": "markdown",
   "metadata": {},
   "source": [
    "## Emulation-based ABC-SMC"
   ]
  },
  {
   "cell_type": "code",
   "execution_count": 12,
   "metadata": {
    "scrolled": true
   },
   "outputs": [
    {
     "name": "stdout",
     "output_type": "stream",
     "text": [
      "2018-06-18T12:40:39.737 Accepted 636/1000 particles.\n",
      "2018-06-18T12:40:40.436 Accepted 356/1000 particles.\n",
      "2018-06-18T12:40:40.874 Accepted 724/2000 particles.\n"
     ]
    },
    {
     "data": {
      "text/plain": [
       "GpAbc.ABCSMCOutput(2, [1000, 1000, 1000], [3000, 1589, 2752], [3.0, 2.0, 1.0], Array{Float64,2}[[3.10599 1.19705; 0.165989 0.707074; … ; 3.41025 0.654842; 1.50906 1.78178], [3.67448 1.24432; 4.91527 1.28832; … ; 2.69262 1.0116; 2.79549 1.29598], [0.929949 1.2148; 2.27616 1.19188; … ; 2.42213 1.30101; 2.08102 1.14962]], Array{Float64,1}[[0.749961, 1.73866, 0.480651, 2.68946, 2.90026, 2.37717, 1.30082, 1.81033, 1.53606, 1.23875  …  2.23786, 0.755177, 1.95483, 1.89138, 0.675651, 1.91647, 0.552367, 2.88897, 1.21527, 2.39759], [1.05392, 1.53437, 0.430137, 0.599135, 0.441277, 1.37643, 1.83888, 0.55937, 0.466769, 1.27648  …  1.53424, 0.320213, 0.574913, 1.61465, 0.527314, 0.706582, 1.74474, 0.54402, 0.290858, 1.00934], [0.790834, 0.583187, 0.518773, 0.543667, 0.530658, 0.593196, 0.767602, 0.948973, 0.991596, 0.57066  …  0.358682, 0.675023, 0.632226, 0.999097, 0.728539, 0.690469, 0.437596, 0.404827, 0.969403, 0.450669]], StatsBase.Weights[[0.001, 0.001, 0.001, 0.001, 0.001, 0.001, 0.001, 0.001, 0.001, 0.001  …  0.001, 0.001, 0.001, 0.001, 0.001, 0.001, 0.001, 0.001, 0.001, 0.001], [0.000898595, 0.00135247, 0.000686456, 0.000764146, 0.000692908, 0.000658988, 0.00123442, 0.000718917, 0.00127265, 0.000805776  …  0.00094756, 0.000691045, 0.000713885, 0.000801936, 0.000809317, 0.000695806, 0.0012563, 0.000800321, 0.00072594, 0.000926131], [0.00163927, 0.000704393, 0.000587077, 0.00136074, 0.000645713, 0.00258569, 0.00056521, 0.00107628, 0.000577386, 0.00067479  …  0.000860916, 0.00112413, 0.00114777, 0.000514666, 0.00170154, 0.000847676, 0.000665732, 0.000987748, 0.000646762, 0.000792489]])"
      ]
     },
     "execution_count": 12,
     "metadata": {},
     "output_type": "execute_result"
    }
   ],
   "source": [
    "emu_abcsmc_input = EmulatedABCSMCInput(n_var_params,\n",
    "    n_particles,\n",
    "    threshold_schedule,\n",
    "    priors,\n",
    "    predict_distance,\n",
    "    batch_size,\n",
    "    max_iter)\n",
    "\n",
    "emu_abcsmc_res = ABCSMC(emu_abcsmc_input, reference_data)"
   ]
  },
  {
   "cell_type": "markdown",
   "metadata": {},
   "source": [
    "## Compare the posteriors"
   ]
  },
  {
   "cell_type": "code",
   "execution_count": 13,
   "metadata": {},
   "outputs": [],
   "source": [
    "abcsmc_res = [sim_abcsmc_res, emu_abcsmc_res]\n",
    "\n",
    "fig, axes = plt.subplots(2,n_var_params)\n",
    "\n",
    "for i in 1:2\n",
    "    for j in 1:n_var_params\n",
    "        for k in 1:length(threshold_schedule)\n",
    "            axes[i,j][:hist](abcsmc_res[i].population[k][:,j],\n",
    "            label = \"Run $k\",\n",
    "            normed=true, alpha=0.3)\n",
    "        end\n",
    "    end\n",
    "end\n",
    "\n",
    "axes[1,1][:legend]()\n",
    "axes[1,1][:set_ylabel](\"Simulation\")\n",
    "axes[2,1][:set_ylabel](\"Emulation\")\n",
    "for j in 1:n_var_params\n",
    "    axes[2,j][:set_xlabel](\"Parameter $j\")\n",
    "end\n",
    "\n",
    "\n",
    "\n",
    "plt.tight_layout()\n",
    "plt.show()"
   ]
  },
  {
   "cell_type": "code",
   "execution_count": 21,
   "metadata": {},
   "outputs": [
    {
     "data": {
      "text/plain": [
       "(1000, 2)"
      ]
     },
     "execution_count": 21,
     "metadata": {},
     "output_type": "execute_result"
    }
   ],
   "source": [
    "size(abcsmc_res[1].population[end])"
   ]
  }
 ],
 "metadata": {
  "kernelspec": {
   "display_name": "Julia 0.6.2",
   "language": "julia",
   "name": "julia-0.6"
  },
  "language_info": {
   "file_extension": ".jl",
   "mimetype": "application/julia",
   "name": "julia",
   "version": "0.6.2"
  }
 },
 "nbformat": 4,
 "nbformat_minor": 2
}
